{
 "cells": [
  {
   "cell_type": "code",
   "execution_count": 3,
   "id": "14b09025",
   "metadata": {},
   "outputs": [
    {
     "name": "stdout",
     "output_type": "stream",
     "text": [
      "5\n"
     ]
    },
    {
     "data": {
      "text/plain": [
       "(5, -1, 6, 0.6666666666666666)"
      ]
     },
     "execution_count": 3,
     "metadata": {},
     "output_type": "execute_result"
    }
   ],
   "source": [
    "# question 1\n",
    "a = 2\n",
    "b = 3\n",
    "c = a+b  # addition where the value is stored in a\n",
    "d = a-b  # subtraction where the value is stored in d\n",
    "e = a*b  # multiplication where the value is stored in e\n",
    "f = a/b  #  division where the value is stored in f\n",
    "c,d,e,f"
   ]
  },
  {
   "cell_type": "code",
   "execution_count": 5,
   "id": "c954461e",
   "metadata": {},
   "outputs": [
    {
     "name": "stdout",
     "output_type": "stream",
     "text": [
      "2.5\n",
      "2\n"
     ]
    }
   ],
   "source": [
    "# question 2\n",
    "#difference between '/' and '//' is \n",
    "print(5/2)  # the output of this is always floating point numbers although input is integer\n",
    "print(5//2)  # this is called floor/integer division which gives nearest value"
   ]
  },
  {
   "cell_type": "code",
   "execution_count": 8,
   "id": "e2c7f25d",
   "metadata": {},
   "outputs": [
    {
     "name": "stdout",
     "output_type": "stream",
     "text": [
      "3\n",
      "-4\n",
      "3.0\n",
      "-4.0\n"
     ]
    }
   ],
   "source": [
    "# question 2 continuation\n",
    "\"\"\"\n",
    "The “//” operator is used to return the closest integer value/floating value\n",
    "which is less than or equal to a specified expression or value. \n",
    "\"\"\" \n",
    "print (7//2)\n",
    "print (-7//2)\n",
    "print (7.0//2)\n",
    "print (-7.0//2)"
   ]
  },
  {
   "cell_type": "code",
   "execution_count": 18,
   "id": "ae6bb5ba",
   "metadata": {},
   "outputs": [
    {
     "name": "stdout",
     "output_type": "stream",
     "text": [
      "216\n"
     ]
    }
   ],
   "source": [
    "# question 3\n",
    "# '**' this operator is used as exponentiation\n",
    "x = 6\n",
    "y = 3\n",
    "c = x ** y # same as 6*6*6\n",
    "print(c) "
   ]
  },
  {
   "cell_type": "code",
   "execution_count": 19,
   "id": "b6547811",
   "metadata": {},
   "outputs": [
    {
     "data": {
      "text/plain": [
       "5"
      ]
     },
     "execution_count": 19,
     "metadata": {},
     "output_type": "execute_result"
    }
   ],
   "source": [
    "# question 3 continuation\n",
    "# '^' this operator is called XOR\n",
    "\n",
    "\"\"\"\n",
    "The ^ operator compares each bit and set it to 1 if only one is 1, \n",
    "otherwise (if both are 1 or both are 0) it is set to 0:\n",
    "\"\"\"\n",
    "# for example:\n",
    "# 6 = 0000000000000110\n",
    "# 3 = 0000000000000011\n",
    "# --------------------\n",
    "# 5 = 0000000000000101\n",
    "# --------------------\n",
    "# \"\"\"\n",
    "# d = x ^ y  # 6 ^ 3\n",
    "d"
   ]
  },
  {
   "cell_type": "code",
   "execution_count": null,
   "id": "7efb33e5",
   "metadata": {},
   "outputs": [],
   "source": [
    "# question 4\n",
    "\n",
    "# Logical operators are used to combine conditional statements:\n",
    "# they are and,or,not\n",
    "#for example\n",
    "and -Returns True if both statements are true=> x < 5 and  x < 10  # if x = 4\n",
    "or-Returns True if one of the statements is true=> x < 5 or x < 4  # if x = 4\n",
    "not-Reverse the result, returns False if the result is true=> not(x < 5 and x < 10) # if x = 4\n"
   ]
  },
  {
   "cell_type": "code",
   "execution_count": 25,
   "id": "1e49ad81",
   "metadata": {},
   "outputs": [
    {
     "name": "stdout",
     "output_type": "stream",
     "text": [
      "1\n"
     ]
    }
   ],
   "source": [
    "# question 5\n",
    "\n",
    "\"\"\"\n",
    "Bitwise right shift has a lower precedence than subtraction, and we need to calculate the subtraction first.\n",
    "The calculation below reads 8 >> 2 = 2\n",
    "\n",
    "More explanation:\n",
    "The >> operator moves each bit the specified number of times to the right. Empty holes at the left are filled with 0's.\n",
    "\n",
    "If you move each bit 2 times to the right, 8 becomes 2:\n",
    " 6 = 0000000000000110\n",
    "becomes\n",
    " 1 = 0000000000000001\n",
    "\"\"\"\n",
    "print(6 >> 3-2)\n"
   ]
  },
  {
   "cell_type": "code",
   "execution_count": 31,
   "id": "183cd9b0",
   "metadata": {},
   "outputs": [
    {
     "name": "stdout",
     "output_type": "stream",
     "text": [
      "6\n"
     ]
    }
   ],
   "source": [
    "# question 6\n",
    "\"\"\"\n",
    "The << operator moves each bit the specified number of times to the left. \n",
    "Empty holes at the right are filled with 0's.\n",
    "\"\"\"\n",
    "#3 = 0000000000000011 \n",
    "# becomes\n",
    "#6 = 0000000000000110  # 0 from left shifted to right.only one digit is shifted becuase we gave one left shift as below\n",
    "\n",
    "print(3 << 1)"
   ]
  },
  {
   "cell_type": "code",
   "execution_count": 34,
   "id": "71245ddd",
   "metadata": {},
   "outputs": [
    {
     "data": {
      "text/plain": [
       "15"
      ]
     },
     "execution_count": 34,
     "metadata": {},
     "output_type": "execute_result"
    }
   ],
   "source": [
    "# question 7\n",
    "l = [1,2,3,4,5,6,7,8,9,10,11,12,13,14,15]\n",
    "10 in l  # checks whether 10 is present in list l.'in' is used to do this\n",
    "len(l)"
   ]
  },
  {
   "cell_type": "code",
   "execution_count": 35,
   "id": "b113c8bf",
   "metadata": {},
   "outputs": [
    {
     "data": {
      "text/plain": [
       "True"
      ]
     },
     "execution_count": 35,
     "metadata": {},
     "output_type": "execute_result"
    }
   ],
   "source": [
    "10 in l"
   ]
  }
 ],
 "metadata": {
  "kernelspec": {
   "display_name": "Python 3 (ipykernel)",
   "language": "python",
   "name": "python3"
  },
  "language_info": {
   "codemirror_mode": {
    "name": "ipython",
    "version": 3
   },
   "file_extension": ".py",
   "mimetype": "text/x-python",
   "name": "python",
   "nbconvert_exporter": "python",
   "pygments_lexer": "ipython3",
   "version": "3.9.13"
  }
 },
 "nbformat": 4,
 "nbformat_minor": 5
}
